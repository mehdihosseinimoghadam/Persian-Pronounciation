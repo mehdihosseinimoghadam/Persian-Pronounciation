{
  "nbformat": 4,
  "nbformat_minor": 0,
  "metadata": {
    "colab": {
      "name": "Persian Pronounciation.ipynb",
      "provenance": []
    },
    "kernelspec": {
      "name": "python3",
      "display_name": "Python 3"
    }
  },
  "cells": [
    {
      "cell_type": "code",
      "metadata": {
        "id": "0P9guMB6YGAE"
      },
      "source": [
        "import re\r\n",
        "import os\r\n",
        "\r\n",
        "buckwalter = { #mapping from Persian script to Buckwalter\r\n",
        "\tu'\\u0622': u'aa' , u'\\u0630': u'z' , u'\\u063A': u'gh' , u'\\u0660': u'0',\r\n",
        "\tu'\\u0627': u'a' , u'\\u0631': u'r' , u'\\u0643': u'k' , u'\\u0661': u'1',\r\n",
        "\tu'\\u0628': u'b' , u'\\u0632': u'z' , u'\\u06A9': u'k' , u'\\u0662': u'2',\r\n",
        "\tu'\\u067E': u'p' , u'\\u0698': u'zh' , u'\\u06AF': u'g' , u'\\u0663': u'3',\r\n",
        "\tu'\\u062A': u't' , u'\\u0633': u's' , u'\\u0644': u'l' , u'\\u0664': u'4',\r\n",
        "\tu'\\u062B': u's' , u'\\u0634': u'sh' , u'\\u0645': u'm' , u'\\u0665': u'5',\r\n",
        "\tu'\\u062C': u'j' , u'\\u0635': u's', u'\\u0646': u'n' , u'\\u0666': u'6',\r\n",
        "\tu'\\u0686': u'ch' , u'\\u0636': u'z' , u'\\u0648': u'v' , u'\\u0667': u'7',\r\n",
        "\tu'\\u062D': u'h' , u'\\u0637': u't' , u'\\u0647': u'h' , u'\\u0668': u'8',\r\n",
        "\tu'\\u062E': u'kh' , u'\\u0638': u'z' , u'\\u064A': u'y' , u'\\u0669': u'9',\r\n",
        "\tu'\\u062F': u'd' , u'\\u0639': u'aa' , u'\\u0649': u'y' , u'\\u0621': u'-'\r\n",
        "}\r\n",
        "\r\n",
        "PersianScript = { #mapping from Buckwalter to Persian script\r\n",
        "\tu'aa': u'\\u0622' , u'z': u'\\u0630' , u'gh': u'\\u063A' , u'0': u'\\u0660',\r\n",
        "\tu'a': u'\\u0627' , u'r': u'\\u0631' , u'k': u'\\u0643' , u'1': u'\\u0661',\r\n",
        "\tu'b': u'\\u0628' , u'z': u'\\u0632' , u'k': u'\\u06A9' , u'2': u'\\u0662',\r\n",
        "\tu'p': u'\\u067E' , u'zh': u'\\u0698' , u'g': u'\\u06AF' , u'3': u'\\u0663',\r\n",
        "\tu't': u'\\u062A' , u's': u'\\u0633' , u'l': u'\\u0644' , u'4': u'\\u0664',\r\n",
        "\tu's': u'\\u062B' , u'sh': u'\\u0634' , u'm': u'\\u0645' , u'5': u'\\u0665',\r\n",
        "\tu'j': u'\\u062C' , u's': u'\\u0635', u'n': u'\\u0646' , u'6': u'\\u0666',\r\n",
        "\tu'ch': u'\\u0686' , u'z': u'\\u0636' , u'v': u'\\u0648' , u'7': u'\\u0667',\r\n",
        "\tu'h': u'\\u062D' , u't': u'\\u0637' , u'h': u'\\u0647' , u'8': u'\\u0668',\r\n",
        "\tu'kh': u'\\u062E' , u'z': u'\\u0638' , u'y': u'\\u064A' , u'9': u'\\u0669',\r\n",
        "\tu'd': u'\\u062F' , u'aa': u'\\u0639' , u'y': u'\\u0649' , u'-': u'\\u0621'\r\n",
        "}\r\n",
        "\r\n",
        "def persianToBuckwalter(word): #Convert input string to Buckwalter\r\n",
        "\tres = u''\r\n",
        "\tfor letter in word:\r\n",
        "\t\tif(letter in buckwalter):\r\n",
        "\t\t\tres += buckwalter[letter]\r\n",
        "\t\telse:\r\n",
        "\t\t\tres += letter\r\n",
        "\treturn res\r\n",
        "\r\n",
        "def buckwalterToPersian(word): #Convert input string to Persian\r\n",
        "\tres = u''\r\n",
        "\tfor letter in word:\r\n",
        "\t\tif(letter in ArabicScript):\r\n",
        "\t\t\tres += ArabicScript[letter]\r\n",
        "\t\telse:\r\n",
        "\t\t\tres += letter\r\n",
        "\treturn res\r\n",
        "\r\n"
      ],
      "execution_count": 11,
      "outputs": []
    },
    {
      "cell_type": "code",
      "metadata": {
        "colab": {
          "base_uri": "https://localhost:8080/",
          "height": 36
        },
        "id": "pSzMGkonYK-D",
        "outputId": "45041041-43a1-46af-cc70-bb5daf5d4d83"
      },
      "source": [
        "persianToBuckwalter(\"درود\")"
      ],
      "execution_count": 17,
      "outputs": [
        {
          "output_type": "execute_result",
          "data": {
            "application/vnd.google.colaboratory.intrinsic+json": {
              "type": "string"
            },
            "text/plain": [
              "'drvd'"
            ]
          },
          "metadata": {
            "tags": []
          },
          "execution_count": 17
        }
      ]
    },
    {
      "cell_type": "code",
      "metadata": {
        "id": "DXS2TjMvZcSk",
        "outputId": "5b6df470-980b-4607-d85c-5c88e43b0942",
        "colab": {
          "base_uri": "https://localhost:8080/",
          "height": 36
        }
      },
      "source": [
        "buckwalterToPersian(\"drvd\")"
      ],
      "execution_count": 16,
      "outputs": [
        {
          "output_type": "execute_result",
          "data": {
            "application/vnd.google.colaboratory.intrinsic+json": {
              "type": "string"
            },
            "text/plain": [
              "'درود'"
            ]
          },
          "metadata": {
            "tags": []
          },
          "execution_count": 16
        }
      ]
    },
    {
      "cell_type": "code",
      "metadata": {
        "id": "ZOh3lqjTbDrw"
      },
      "source": [
        ""
      ],
      "execution_count": null,
      "outputs": []
    }
  ]
}